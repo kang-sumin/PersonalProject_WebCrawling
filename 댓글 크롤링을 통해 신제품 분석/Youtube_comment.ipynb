{
 "cells": [
  {
   "cell_type": "markdown",
   "metadata": {},
   "source": [
    "## Youtube 댓글 크롤링"
   ]
  },
  {
   "cell_type": "code",
   "execution_count": 35,
   "metadata": {},
   "outputs": [],
   "source": [
    "#필요한 라이브러리 설치\n",
    "#pip install selenium : 브라우저 조정을 통한 웹 테스트\n",
    "#pip install bs4 : HTML,XML 데이터 Parsing\n",
    "#pip install pandas : 데이터 조작,가공, 최적화, DataFrame\n",
    "#pip install openpyxl : Excel 파일 Read/Write\n",
    "#pip install lxml : XML,HTML 처리를 위한 기능"
   ]
  },
  {
   "cell_type": "code",
   "execution_count": 36,
   "metadata": {},
   "outputs": [],
   "source": [
    "#라이브러리 전처리\n",
    "import time\n",
    "import pandas as pd\n",
    "from bs4 import BeautifulSoup\n",
    "from selenium import webdriver as wd\n",
    "\n",
    "\n",
    "#Check start time 시작 시간(전체 수행시간을 구하기 위해)\n",
    "start=time.time()\n",
    "\n",
    "#chrom driver경로 설정\n",
    "driver=wd.Chrome(executable_path=r\"C:\\Users\\rkdtn\\Desktop\\chromedriver.exe\")\n",
    "#driver=wd.Chrome(executable_path=\"C:/Users/rkdtn/Desktop/chromedriver.exe\")\n",
    "\n",
    "#댓글 수집할 Youtube URL 입력\n",
    "#url=\"https://youtu.be/0F2GrIuSgZ8\" #volvo\n",
    "url=\"https://www.youtube.com/watch?v=NUmWkbiYnhA\" #samsung\n",
    "driver.get(url)\n",
    "\n",
    "last_page_height=driver.execute_script(\"return document.documentElement.scrollHeight\")\n",
    "\n",
    "while True:\n",
    "    driver.execute_script(\"window.scrollTo(0, document.documentElement.scrollHeight);\")\n",
    "    time.sleep(1.0)       # 인터발 1이상으로 줘야 데이터 취득가능(롤링시 데이터 로딩 시간 때문)\n",
    "    new_page_height = driver.execute_script(\"return document.documentElement.scrollHeight\")\n",
    "\n",
    "    if new_page_height == last_page_height:\n",
    "        break\n",
    "    last_page_height = new_page_height\n",
    "\n",
    "html_source = driver.page_source\n",
    "driver.close()\n",
    "\n",
    "# HTML 태크 크롤링 작업\n",
    "soup = BeautifulSoup(html_source, \"lxml\")\n",
    "\n",
    "youtube_user_IDs = soup.select(\"div#header-author > a > span\")\n",
    "youtube_comments = soup.select(\"yt-formatted-string#content-text\")\n",
    "comment_like_num=soup.select(\"span#vote-count-middle.style-scope\")\n",
    "#comment_unlike_num=soup.select(\"\")\n",
    "\n",
    "\n"
   ]
  },
  {
   "cell_type": "code",
   "execution_count": 37,
   "metadata": {},
   "outputs": [],
   "source": [
    "##############불필요한 공백, 탭 등의 공간을 정리####################\n",
    "\n",
    "\n",
    "\n",
    "str_youtube_userIDs = []   # USER ID 배열\n",
    "str_youtube_comments = []  # USER 댓글 내용 배열\n",
    "str_comment_like_num=[]  #댓글 좋아요 갯수 배열\n",
    "#str_comment_unlike_num=[]  #댓글 싫어요 갯수 배열\n",
    "\n",
    "# REPLACE DATA\n",
    "for i in range(len(youtube_user_IDs)):\n",
    "    str_tmp = str(youtube_user_IDs[i].text)\n",
    "    str_tmp = str_tmp.replace('\\n', '')\n",
    "    str_tmp = str_tmp.replace('\\t', '')\n",
    "    str_tmp = str_tmp.replace('   ','')\n",
    "    str_youtube_userIDs.append(str_tmp)\n",
    "\n",
    "    str_tmp = str(youtube_comments[i].text)\n",
    "    str_tmp = str_tmp.replace('\\n', '')\n",
    "    str_tmp = str_tmp.replace('\\t', '')\n",
    "    str_tmp = str_tmp.replace('   ','')\n",
    "    str_youtube_comments.append(str_tmp)\n",
    "    \n",
    "    str_tmp=str(comment_like_num[i].text)\n",
    "    str_comment_like_num.append(str_tmp)\n",
    "    "
   ]
  },
  {
   "cell_type": "code",
   "execution_count": 38,
   "metadata": {},
   "outputs": [],
   "source": [
    "############## 보기 좋은 형태로 데이터를 변경###############\n",
    "\n",
    "## MODIFY VIEW FORMAT\n",
    "pd_data = {\"ID\":str_youtube_userIDs, \"comment\":str_youtube_comments,\"like_num\":str_comment_like_num}\n",
    "youtube_pd = pd.DataFrame(pd_data)"
   ]
  },
  {
   "cell_type": "code",
   "execution_count": 39,
   "metadata": {},
   "outputs": [
    {
     "name": "stdout",
     "output_type": "stream",
     "text": [
      "Running Time :  85.33774638175964\n"
     ]
    }
   ],
   "source": [
    "###############엑셀파일로 저장####################\n",
    "youtube_pd.to_excel(\"C:/Users/rkdtn/Desktop/data4.xlsx\", sheet_name=\"sheet1\", index=True)\n",
    "print(\"Running Time : \", time.time() - start)       # 전체 수행 시킨 출력"
   ]
  },
  {
   "cell_type": "code",
   "execution_count": null,
   "metadata": {},
   "outputs": [],
   "source": []
  }
 ],
 "metadata": {
  "kernelspec": {
   "display_name": "Python 3",
   "language": "python",
   "name": "python3"
  },
  "language_info": {
   "codemirror_mode": {
    "name": "ipython",
    "version": 3
   },
   "file_extension": ".py",
   "mimetype": "text/x-python",
   "name": "python",
   "nbconvert_exporter": "python",
   "pygments_lexer": "ipython3",
   "version": "3.8.3"
  }
 },
 "nbformat": 4,
 "nbformat_minor": 4
}
